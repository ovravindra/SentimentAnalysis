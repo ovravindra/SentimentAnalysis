{
 "cells": [
  {
   "cell_type": "code",
   "execution_count": 1,
   "metadata": {},
   "outputs": [],
   "source": [
    "# we can borrow the word vectors generated using the CountVectoriser and TfidfVectoriser to\n",
    "# train the binary classification Logistic Regression model and check the accuracy.\n",
    "\n",
    "# starting the Data wrangling using pandas and numpy"
   ]
  },
  {
   "cell_type": "code",
   "execution_count": 2,
   "metadata": {},
   "outputs": [],
   "source": [
    "import pandas as pd\n",
    "import numpy as np\n",
    "import matplotlib.pyplot as plt\n",
    "import seaborn as sns\n",
    "sns.set(style = 'whitegrid', color_codes = True)\n",
    "import os\n",
    "import re\n",
    "\n",
    "%matplotlib inline"
   ]
  },
  {
   "cell_type": "code",
   "execution_count": 3,
   "metadata": {},
   "outputs": [],
   "source": [
    "# loading the text data\n",
    "twitter_df = pd.read_csv(\"twitter_train.csv\")"
   ]
  },
  {
   "cell_type": "code",
   "execution_count": 4,
   "metadata": {
    "scrolled": true
   },
   "outputs": [
    {
     "output_type": "execute_result",
     "data": {
      "text/plain": "    id keyword                       location  \\\n0    1     NaN                            NaN   \n1    4     NaN                            NaN   \n2    5     NaN                            NaN   \n3    6     NaN                            NaN   \n4    7     NaN                            NaN   \n5    8     NaN                            NaN   \n6   10     NaN                            NaN   \n7   13     NaN                            NaN   \n8   14     NaN                            NaN   \n9   15     NaN                            NaN   \n10  16     NaN                            NaN   \n11  17     NaN                            NaN   \n12  18     NaN                            NaN   \n13  19     NaN                            NaN   \n14  20     NaN                            NaN   \n15  23     NaN                            NaN   \n16  24     NaN                            NaN   \n17  25     NaN                            NaN   \n18  26     NaN                            NaN   \n19  28     NaN                            NaN   \n20  31     NaN                            NaN   \n21  32     NaN                            NaN   \n22  33     NaN                            NaN   \n23  34     NaN                            NaN   \n24  36     NaN                            NaN   \n25  37     NaN                            NaN   \n26  38     NaN                            NaN   \n27  39     NaN                            NaN   \n28  40     NaN                            NaN   \n29  41     NaN                            NaN   \n30  44     NaN                            NaN   \n31  48  ablaze                     Birmingham   \n32  49  ablaze  Est. September 2012 - Bristol   \n33  50  ablaze                         AFRICA   \n34  52  ablaze               Philadelphia, PA   \n35  53  ablaze                     London, UK   \n36  54  ablaze                       Pretoria   \n37  55  ablaze                   World Wide!!   \n38  56  ablaze                            NaN   \n39  57  ablaze                 Paranaque City   \n40  59  ablaze                 Live On Webcam   \n41  61  ablaze                            NaN   \n42  62  ablaze                      milky way   \n43  63  ablaze                            NaN   \n44  64  ablaze                            NaN   \n45  65  ablaze                            NaN   \n46  66  ablaze      GREENSBORO,NORTH CAROLINA   \n47  67  ablaze                            NaN   \n48  68  ablaze                 Live On Webcam   \n49  71  ablaze                       England.   \n\n                                                 text  target  \n0   Our Deeds are the Reason of this #earthquake M...       1  \n1              Forest fire near La Ronge Sask. Canada       1  \n2   All residents asked to 'shelter in place' are ...       1  \n3   13,000 people receive #wildfires evacuation or...       1  \n4   Just got sent this photo from Ruby #Alaska as ...       1  \n5   #RockyFire Update => California Hwy. 20 closed...       1  \n6   #flood #disaster Heavy rain causes flash flood...       1  \n7   I'm on top of the hill and I can see a fire in...       1  \n8   There's an emergency evacuation happening now ...       1  \n9   I'm afraid that the tornado is coming to our a...       1  \n10        Three people died from the heat wave so far       1  \n11  Haha South Tampa is getting flooded hah- WAIT ...       1  \n12  #raining #flooding #Florida #TampaBay #Tampa 1...       1  \n13            #Flood in Bago Myanmar #We arrived Bago       1  \n14  Damage to school bus on 80 in multi car crash ...       1  \n15                                     What's up man?       0  \n16                                      I love fruits       0  \n17                                   Summer is lovely       0  \n18                                  My car is so fast       0  \n19                       What a goooooooaaaaaal!!!!!!       0  \n20                             this is ridiculous....       0  \n21                                  London is cool ;)       0  \n22                                        Love skiing       0  \n23                              What a wonderful day!       0  \n24                                           LOOOOOOL       0  \n25                     No way...I can't eat that shit       0  \n26                              Was in NYC last week!       0  \n27                                 Love my girlfriend       0  \n28                                          Cooool :)       0  \n29                                 Do you like pasta?       0  \n30                                           The end!       0  \n31  @bbcmtd Wholesale Markets ablaze http://t.co/l...       1  \n32  We always try to bring the heavy. #metal #RT h...       0  \n33  #AFRICANBAZE: Breaking news:Nigeria flag set a...       1  \n34                 Crying out for more! Set me ablaze       0  \n35  On plus side LOOK AT THE SKY LAST NIGHT IT WAS...       0  \n36  @PhDSquares #mufc they've built so much hype a...       0  \n37  INEC Office in Abia Set Ablaze - http://t.co/3...       1  \n38  Barbados #Bridgetown JAMAICA ÛÒ Two cars set ...       1  \n39                             Ablaze for you Lord :D       0  \n40  Check these out: http://t.co/rOI2NSmEJJ http:/...       0  \n41  on the outside you're ablaze and alive\\nbut yo...       0  \n42  Had an awesome time visiting the CFC head offi...       0  \n43       SOOOO PUMPED FOR ABLAZE ???? @southridgelife       0  \n44  I wanted to set Chicago ablaze with my preachi...       0  \n45  I gained 3 followers in the last week. You? Kn...       0  \n46  How the West was burned: Thousands of wildfire...       1  \n47  Building the perfect tracklist to life leave t...       0  \n48  Check these out: http://t.co/rOI2NSmEJJ http:/...       0  \n49  First night with retainers in. It's quite weir...       0  ",
      "text/html": "<div>\n<style scoped>\n    .dataframe tbody tr th:only-of-type {\n        vertical-align: middle;\n    }\n\n    .dataframe tbody tr th {\n        vertical-align: top;\n    }\n\n    .dataframe thead th {\n        text-align: right;\n    }\n</style>\n<table border=\"1\" class=\"dataframe\">\n  <thead>\n    <tr style=\"text-align: right;\">\n      <th></th>\n      <th>id</th>\n      <th>keyword</th>\n      <th>location</th>\n      <th>text</th>\n      <th>target</th>\n    </tr>\n  </thead>\n  <tbody>\n    <tr>\n      <th>0</th>\n      <td>1</td>\n      <td>NaN</td>\n      <td>NaN</td>\n      <td>Our Deeds are the Reason of this #earthquake M...</td>\n      <td>1</td>\n    </tr>\n    <tr>\n      <th>1</th>\n      <td>4</td>\n      <td>NaN</td>\n      <td>NaN</td>\n      <td>Forest fire near La Ronge Sask. Canada</td>\n      <td>1</td>\n    </tr>\n    <tr>\n      <th>2</th>\n      <td>5</td>\n      <td>NaN</td>\n      <td>NaN</td>\n      <td>All residents asked to 'shelter in place' are ...</td>\n      <td>1</td>\n    </tr>\n    <tr>\n      <th>3</th>\n      <td>6</td>\n      <td>NaN</td>\n      <td>NaN</td>\n      <td>13,000 people receive #wildfires evacuation or...</td>\n      <td>1</td>\n    </tr>\n    <tr>\n      <th>4</th>\n      <td>7</td>\n      <td>NaN</td>\n      <td>NaN</td>\n      <td>Just got sent this photo from Ruby #Alaska as ...</td>\n      <td>1</td>\n    </tr>\n    <tr>\n      <th>5</th>\n      <td>8</td>\n      <td>NaN</td>\n      <td>NaN</td>\n      <td>#RockyFire Update =&gt; California Hwy. 20 closed...</td>\n      <td>1</td>\n    </tr>\n    <tr>\n      <th>6</th>\n      <td>10</td>\n      <td>NaN</td>\n      <td>NaN</td>\n      <td>#flood #disaster Heavy rain causes flash flood...</td>\n      <td>1</td>\n    </tr>\n    <tr>\n      <th>7</th>\n      <td>13</td>\n      <td>NaN</td>\n      <td>NaN</td>\n      <td>I'm on top of the hill and I can see a fire in...</td>\n      <td>1</td>\n    </tr>\n    <tr>\n      <th>8</th>\n      <td>14</td>\n      <td>NaN</td>\n      <td>NaN</td>\n      <td>There's an emergency evacuation happening now ...</td>\n      <td>1</td>\n    </tr>\n    <tr>\n      <th>9</th>\n      <td>15</td>\n      <td>NaN</td>\n      <td>NaN</td>\n      <td>I'm afraid that the tornado is coming to our a...</td>\n      <td>1</td>\n    </tr>\n    <tr>\n      <th>10</th>\n      <td>16</td>\n      <td>NaN</td>\n      <td>NaN</td>\n      <td>Three people died from the heat wave so far</td>\n      <td>1</td>\n    </tr>\n    <tr>\n      <th>11</th>\n      <td>17</td>\n      <td>NaN</td>\n      <td>NaN</td>\n      <td>Haha South Tampa is getting flooded hah- WAIT ...</td>\n      <td>1</td>\n    </tr>\n    <tr>\n      <th>12</th>\n      <td>18</td>\n      <td>NaN</td>\n      <td>NaN</td>\n      <td>#raining #flooding #Florida #TampaBay #Tampa 1...</td>\n      <td>1</td>\n    </tr>\n    <tr>\n      <th>13</th>\n      <td>19</td>\n      <td>NaN</td>\n      <td>NaN</td>\n      <td>#Flood in Bago Myanmar #We arrived Bago</td>\n      <td>1</td>\n    </tr>\n    <tr>\n      <th>14</th>\n      <td>20</td>\n      <td>NaN</td>\n      <td>NaN</td>\n      <td>Damage to school bus on 80 in multi car crash ...</td>\n      <td>1</td>\n    </tr>\n    <tr>\n      <th>15</th>\n      <td>23</td>\n      <td>NaN</td>\n      <td>NaN</td>\n      <td>What's up man?</td>\n      <td>0</td>\n    </tr>\n    <tr>\n      <th>16</th>\n      <td>24</td>\n      <td>NaN</td>\n      <td>NaN</td>\n      <td>I love fruits</td>\n      <td>0</td>\n    </tr>\n    <tr>\n      <th>17</th>\n      <td>25</td>\n      <td>NaN</td>\n      <td>NaN</td>\n      <td>Summer is lovely</td>\n      <td>0</td>\n    </tr>\n    <tr>\n      <th>18</th>\n      <td>26</td>\n      <td>NaN</td>\n      <td>NaN</td>\n      <td>My car is so fast</td>\n      <td>0</td>\n    </tr>\n    <tr>\n      <th>19</th>\n      <td>28</td>\n      <td>NaN</td>\n      <td>NaN</td>\n      <td>What a goooooooaaaaaal!!!!!!</td>\n      <td>0</td>\n    </tr>\n    <tr>\n      <th>20</th>\n      <td>31</td>\n      <td>NaN</td>\n      <td>NaN</td>\n      <td>this is ridiculous....</td>\n      <td>0</td>\n    </tr>\n    <tr>\n      <th>21</th>\n      <td>32</td>\n      <td>NaN</td>\n      <td>NaN</td>\n      <td>London is cool ;)</td>\n      <td>0</td>\n    </tr>\n    <tr>\n      <th>22</th>\n      <td>33</td>\n      <td>NaN</td>\n      <td>NaN</td>\n      <td>Love skiing</td>\n      <td>0</td>\n    </tr>\n    <tr>\n      <th>23</th>\n      <td>34</td>\n      <td>NaN</td>\n      <td>NaN</td>\n      <td>What a wonderful day!</td>\n      <td>0</td>\n    </tr>\n    <tr>\n      <th>24</th>\n      <td>36</td>\n      <td>NaN</td>\n      <td>NaN</td>\n      <td>LOOOOOOL</td>\n      <td>0</td>\n    </tr>\n    <tr>\n      <th>25</th>\n      <td>37</td>\n      <td>NaN</td>\n      <td>NaN</td>\n      <td>No way...I can't eat that shit</td>\n      <td>0</td>\n    </tr>\n    <tr>\n      <th>26</th>\n      <td>38</td>\n      <td>NaN</td>\n      <td>NaN</td>\n      <td>Was in NYC last week!</td>\n      <td>0</td>\n    </tr>\n    <tr>\n      <th>27</th>\n      <td>39</td>\n      <td>NaN</td>\n      <td>NaN</td>\n      <td>Love my girlfriend</td>\n      <td>0</td>\n    </tr>\n    <tr>\n      <th>28</th>\n      <td>40</td>\n      <td>NaN</td>\n      <td>NaN</td>\n      <td>Cooool :)</td>\n      <td>0</td>\n    </tr>\n    <tr>\n      <th>29</th>\n      <td>41</td>\n      <td>NaN</td>\n      <td>NaN</td>\n      <td>Do you like pasta?</td>\n      <td>0</td>\n    </tr>\n    <tr>\n      <th>30</th>\n      <td>44</td>\n      <td>NaN</td>\n      <td>NaN</td>\n      <td>The end!</td>\n      <td>0</td>\n    </tr>\n    <tr>\n      <th>31</th>\n      <td>48</td>\n      <td>ablaze</td>\n      <td>Birmingham</td>\n      <td>@bbcmtd Wholesale Markets ablaze http://t.co/l...</td>\n      <td>1</td>\n    </tr>\n    <tr>\n      <th>32</th>\n      <td>49</td>\n      <td>ablaze</td>\n      <td>Est. September 2012 - Bristol</td>\n      <td>We always try to bring the heavy. #metal #RT h...</td>\n      <td>0</td>\n    </tr>\n    <tr>\n      <th>33</th>\n      <td>50</td>\n      <td>ablaze</td>\n      <td>AFRICA</td>\n      <td>#AFRICANBAZE: Breaking news:Nigeria flag set a...</td>\n      <td>1</td>\n    </tr>\n    <tr>\n      <th>34</th>\n      <td>52</td>\n      <td>ablaze</td>\n      <td>Philadelphia, PA</td>\n      <td>Crying out for more! Set me ablaze</td>\n      <td>0</td>\n    </tr>\n    <tr>\n      <th>35</th>\n      <td>53</td>\n      <td>ablaze</td>\n      <td>London, UK</td>\n      <td>On plus side LOOK AT THE SKY LAST NIGHT IT WAS...</td>\n      <td>0</td>\n    </tr>\n    <tr>\n      <th>36</th>\n      <td>54</td>\n      <td>ablaze</td>\n      <td>Pretoria</td>\n      <td>@PhDSquares #mufc they've built so much hype a...</td>\n      <td>0</td>\n    </tr>\n    <tr>\n      <th>37</th>\n      <td>55</td>\n      <td>ablaze</td>\n      <td>World Wide!!</td>\n      <td>INEC Office in Abia Set Ablaze - http://t.co/3...</td>\n      <td>1</td>\n    </tr>\n    <tr>\n      <th>38</th>\n      <td>56</td>\n      <td>ablaze</td>\n      <td>NaN</td>\n      <td>Barbados #Bridgetown JAMAICA ÛÒ Two cars set ...</td>\n      <td>1</td>\n    </tr>\n    <tr>\n      <th>39</th>\n      <td>57</td>\n      <td>ablaze</td>\n      <td>Paranaque City</td>\n      <td>Ablaze for you Lord :D</td>\n      <td>0</td>\n    </tr>\n    <tr>\n      <th>40</th>\n      <td>59</td>\n      <td>ablaze</td>\n      <td>Live On Webcam</td>\n      <td>Check these out: http://t.co/rOI2NSmEJJ http:/...</td>\n      <td>0</td>\n    </tr>\n    <tr>\n      <th>41</th>\n      <td>61</td>\n      <td>ablaze</td>\n      <td>NaN</td>\n      <td>on the outside you're ablaze and alive\\nbut yo...</td>\n      <td>0</td>\n    </tr>\n    <tr>\n      <th>42</th>\n      <td>62</td>\n      <td>ablaze</td>\n      <td>milky way</td>\n      <td>Had an awesome time visiting the CFC head offi...</td>\n      <td>0</td>\n    </tr>\n    <tr>\n      <th>43</th>\n      <td>63</td>\n      <td>ablaze</td>\n      <td>NaN</td>\n      <td>SOOOO PUMPED FOR ABLAZE ???? @southridgelife</td>\n      <td>0</td>\n    </tr>\n    <tr>\n      <th>44</th>\n      <td>64</td>\n      <td>ablaze</td>\n      <td>NaN</td>\n      <td>I wanted to set Chicago ablaze with my preachi...</td>\n      <td>0</td>\n    </tr>\n    <tr>\n      <th>45</th>\n      <td>65</td>\n      <td>ablaze</td>\n      <td>NaN</td>\n      <td>I gained 3 followers in the last week. You? Kn...</td>\n      <td>0</td>\n    </tr>\n    <tr>\n      <th>46</th>\n      <td>66</td>\n      <td>ablaze</td>\n      <td>GREENSBORO,NORTH CAROLINA</td>\n      <td>How the West was burned: Thousands of wildfire...</td>\n      <td>1</td>\n    </tr>\n    <tr>\n      <th>47</th>\n      <td>67</td>\n      <td>ablaze</td>\n      <td>NaN</td>\n      <td>Building the perfect tracklist to life leave t...</td>\n      <td>0</td>\n    </tr>\n    <tr>\n      <th>48</th>\n      <td>68</td>\n      <td>ablaze</td>\n      <td>Live On Webcam</td>\n      <td>Check these out: http://t.co/rOI2NSmEJJ http:/...</td>\n      <td>0</td>\n    </tr>\n    <tr>\n      <th>49</th>\n      <td>71</td>\n      <td>ablaze</td>\n      <td>England.</td>\n      <td>First night with retainers in. It's quite weir...</td>\n      <td>0</td>\n    </tr>\n  </tbody>\n</table>\n</div>"
     },
     "metadata": {},
     "execution_count": 4
    }
   ],
   "source": [
    "twitter_df.head(50)"
   ]
  },
  {
   "cell_type": "markdown",
   "metadata": {},
   "source": [
    "input variables\n",
    "1. id : is the ID of the tweet\n",
    "2. Keyword : is the main word that is used to extract the tweet. both the positive and negative sentiments revolve around this words\n",
    "3. Location: is the geo-location of the person tweeting.\n",
    "4. Text: is the main body of the tweet. Any tweet can have only 280 characters. i.e., for example any one of the following list is a character :- [a,1,@,A... etc]\n",
    "5. Target: finally the sentiment of the tweet, manually added. This makes the data labeled data, and hence, the problem a classification problem.\n"
   ]
  },
  {
   "cell_type": "code",
   "execution_count": 5,
   "metadata": {
    "tags": []
   },
   "outputs": [
    {
     "output_type": "stream",
     "name": "stdout",
     "text": "<class 'pandas.core.frame.DataFrame'>\nRangeIndex: 7613 entries, 0 to 7612\nData columns (total 5 columns):\n #   Column    Non-Null Count  Dtype \n---  ------    --------------  ----- \n 0   id        7613 non-null   int64 \n 1   keyword   7552 non-null   object\n 2   location  5080 non-null   object\n 3   text      7613 non-null   object\n 4   target    7613 non-null   int64 \ndtypes: int64(2), object(3)\nmemory usage: 297.5+ KB\n"
    }
   ],
   "source": [
    "twitter_df.info()"
   ]
  },
  {
   "cell_type": "code",
   "execution_count": 6,
   "metadata": {},
   "outputs": [
    {
     "output_type": "execute_result",
     "data": {
      "text/plain": "(7613, 5)"
     },
     "metadata": {},
     "execution_count": 6
    }
   ],
   "source": [
    "twitter_df.shape"
   ]
  },
  {
   "cell_type": "code",
   "execution_count": 7,
   "metadata": {},
   "outputs": [],
   "source": [
    "twitter_df = twitter_df.dropna(how = 'all', axis = 0)"
   ]
  },
  {
   "cell_type": "code",
   "execution_count": 8,
   "metadata": {},
   "outputs": [
    {
     "output_type": "execute_result",
     "data": {
      "text/plain": "(7613, 5)"
     },
     "metadata": {},
     "execution_count": 8
    }
   ],
   "source": [
    "twitter_df.shape"
   ]
  },
  {
   "cell_type": "code",
   "execution_count": 9,
   "metadata": {},
   "outputs": [],
   "source": [
    "twitter_df = twitter_df.fillna('0')"
   ]
  },
  {
   "cell_type": "code",
   "execution_count": 10,
   "metadata": {
    "tags": []
   },
   "outputs": [
    {
     "output_type": "stream",
     "name": "stdout",
     "text": "0    4342\n1    3271\nName: target, dtype: int64\n"
    },
    {
     "output_type": "execute_result",
     "data": {
      "text/plain": "<matplotlib.axes._subplots.AxesSubplot at 0x7f8e8a782f10>"
     },
     "metadata": {},
     "execution_count": 10
    },
    {
     "output_type": "display_data",
     "data": {
      "text/plain": "<Figure size 432x288 with 1 Axes>",
      "image/svg+xml": "<?xml version=\"1.0\" encoding=\"utf-8\" standalone=\"no\"?>\n<!DOCTYPE svg PUBLIC \"-//W3C//DTD SVG 1.1//EN\"\n  \"http://www.w3.org/Graphics/SVG/1.1/DTD/svg11.dtd\">\n<!-- Created with matplotlib (https://matplotlib.org/) -->\n<svg height=\"266.374219pt\" version=\"1.1\" viewBox=\"0 0 398.1425 266.374219\" width=\"398.1425pt\" xmlns=\"http://www.w3.org/2000/svg\" xmlns:xlink=\"http://www.w3.org/1999/xlink\">\n <defs>\n  <style type=\"text/css\">\n*{stroke-linecap:butt;stroke-linejoin:round;}\n  </style>\n </defs>\n <g id=\"figure_1\">\n  <g id=\"patch_1\">\n   <path d=\"M 0 266.374219 \nL 398.1425 266.374219 \nL 398.1425 0 \nL 0 0 \nz\n\" style=\"fill:none;\"/>\n  </g>\n  <g id=\"axes_1\">\n   <g id=\"patch_2\">\n    <path d=\"M 56.1425 224.64 \nL 390.9425 224.64 \nL 390.9425 7.2 \nL 56.1425 7.2 \nz\n\" style=\"fill:#ffffff;\"/>\n   </g>\n   <g id=\"matplotlib.axis_1\">\n    <g id=\"xtick_1\">\n     <g id=\"text_1\">\n      <!-- 0 -->\n      <defs>\n       <path d=\"M 4.15625 35.296875 \nQ 4.15625 48 6.765625 55.734375 \nQ 9.375 63.484375 14.515625 67.671875 \nQ 19.671875 71.875 27.484375 71.875 \nQ 33.25 71.875 37.59375 69.546875 \nQ 41.9375 67.234375 44.765625 62.859375 \nQ 47.609375 58.5 49.21875 52.21875 \nQ 50.828125 45.953125 50.828125 35.296875 \nQ 50.828125 22.703125 48.234375 14.96875 \nQ 45.65625 7.234375 40.5 3 \nQ 35.359375 -1.21875 27.484375 -1.21875 \nQ 17.140625 -1.21875 11.234375 6.203125 \nQ 4.15625 15.140625 4.15625 35.296875 \nz\nM 13.1875 35.296875 \nQ 13.1875 17.671875 17.3125 11.828125 \nQ 21.4375 6 27.484375 6 \nQ 33.546875 6 37.671875 11.859375 \nQ 41.796875 17.71875 41.796875 35.296875 \nQ 41.796875 52.984375 37.671875 58.78125 \nQ 33.546875 64.59375 27.390625 64.59375 \nQ 21.34375 64.59375 17.71875 59.46875 \nQ 13.1875 52.9375 13.1875 35.296875 \nz\n\" id=\"ArialMT-48\"/>\n      </defs>\n      <g style=\"fill:#262626;\" transform=\"translate(136.783984 242.013594)scale(0.11 -0.11)\">\n       <use xlink:href=\"#ArialMT-48\"/>\n      </g>\n     </g>\n    </g>\n    <g id=\"xtick_2\">\n     <g id=\"text_2\">\n      <!-- 1 -->\n      <defs>\n       <path d=\"M 37.25 0 \nL 28.46875 0 \nL 28.46875 56 \nQ 25.296875 52.984375 20.140625 49.953125 \nQ 14.984375 46.921875 10.890625 45.40625 \nL 10.890625 53.90625 \nQ 18.265625 57.375 23.78125 62.296875 \nQ 29.296875 67.234375 31.59375 71.875 \nL 37.25 71.875 \nz\n\" id=\"ArialMT-49\"/>\n      </defs>\n      <g style=\"fill:#262626;\" transform=\"translate(304.183984 242.013594)scale(0.11 -0.11)\">\n       <use xlink:href=\"#ArialMT-49\"/>\n      </g>\n     </g>\n    </g>\n    <g id=\"text_3\">\n     <!-- target -->\n     <defs>\n      <path d=\"M 25.78125 7.859375 \nL 27.046875 0.09375 \nQ 23.34375 -0.6875 20.40625 -0.6875 \nQ 15.625 -0.6875 12.984375 0.828125 \nQ 10.359375 2.34375 9.28125 4.8125 \nQ 8.203125 7.28125 8.203125 15.1875 \nL 8.203125 45.015625 \nL 1.765625 45.015625 \nL 1.765625 51.859375 \nL 8.203125 51.859375 \nL 8.203125 64.703125 \nL 16.9375 69.96875 \nL 16.9375 51.859375 \nL 25.78125 51.859375 \nL 25.78125 45.015625 \nL 16.9375 45.015625 \nL 16.9375 14.703125 \nQ 16.9375 10.9375 17.40625 9.859375 \nQ 17.875 8.796875 18.921875 8.15625 \nQ 19.96875 7.515625 21.921875 7.515625 \nQ 23.390625 7.515625 25.78125 7.859375 \nz\n\" id=\"ArialMT-116\"/>\n      <path d=\"M 40.4375 6.390625 \nQ 35.546875 2.25 31.03125 0.53125 \nQ 26.515625 -1.171875 21.34375 -1.171875 \nQ 12.796875 -1.171875 8.203125 3 \nQ 3.609375 7.171875 3.609375 13.671875 \nQ 3.609375 17.484375 5.34375 20.625 \nQ 7.078125 23.78125 9.890625 25.6875 \nQ 12.703125 27.59375 16.21875 28.5625 \nQ 18.796875 29.25 24.03125 29.890625 \nQ 34.671875 31.15625 39.703125 32.90625 \nQ 39.75 34.71875 39.75 35.203125 \nQ 39.75 40.578125 37.25 42.78125 \nQ 33.890625 45.75 27.25 45.75 \nQ 21.046875 45.75 18.09375 43.578125 \nQ 15.140625 41.40625 13.71875 35.890625 \nL 5.125 37.0625 \nQ 6.296875 42.578125 8.984375 45.96875 \nQ 11.671875 49.359375 16.75 51.1875 \nQ 21.828125 53.03125 28.515625 53.03125 \nQ 35.15625 53.03125 39.296875 51.46875 \nQ 43.453125 49.90625 45.40625 47.53125 \nQ 47.359375 45.171875 48.140625 41.546875 \nQ 48.578125 39.3125 48.578125 33.453125 \nL 48.578125 21.734375 \nQ 48.578125 9.46875 49.140625 6.21875 \nQ 49.703125 2.984375 51.375 0 \nL 42.1875 0 \nQ 40.828125 2.734375 40.4375 6.390625 \nz\nM 39.703125 26.03125 \nQ 34.90625 24.078125 25.34375 22.703125 \nQ 19.921875 21.921875 17.671875 20.9375 \nQ 15.4375 19.96875 14.203125 18.09375 \nQ 12.984375 16.21875 12.984375 13.921875 \nQ 12.984375 10.40625 15.640625 8.0625 \nQ 18.3125 5.71875 23.4375 5.71875 \nQ 28.515625 5.71875 32.46875 7.9375 \nQ 36.421875 10.15625 38.28125 14.015625 \nQ 39.703125 17 39.703125 22.796875 \nz\n\" id=\"ArialMT-97\"/>\n      <path d=\"M 6.5 0 \nL 6.5 51.859375 \nL 14.40625 51.859375 \nL 14.40625 44 \nQ 17.4375 49.515625 20 51.265625 \nQ 22.5625 53.03125 25.640625 53.03125 \nQ 30.078125 53.03125 34.671875 50.203125 \nL 31.640625 42.046875 \nQ 28.421875 43.953125 25.203125 43.953125 \nQ 22.3125 43.953125 20.015625 42.21875 \nQ 17.71875 40.484375 16.75 37.40625 \nQ 15.28125 32.71875 15.28125 27.15625 \nL 15.28125 0 \nz\n\" id=\"ArialMT-114\"/>\n      <path d=\"M 4.984375 -4.296875 \nL 13.53125 -5.5625 \nQ 14.0625 -9.515625 16.5 -11.328125 \nQ 19.78125 -13.765625 25.4375 -13.765625 \nQ 31.546875 -13.765625 34.859375 -11.328125 \nQ 38.1875 -8.890625 39.359375 -4.5 \nQ 40.046875 -1.8125 39.984375 6.78125 \nQ 34.234375 0 25.640625 0 \nQ 14.9375 0 9.078125 7.71875 \nQ 3.21875 15.4375 3.21875 26.21875 \nQ 3.21875 33.640625 5.90625 39.90625 \nQ 8.59375 46.1875 13.6875 49.609375 \nQ 18.796875 53.03125 25.6875 53.03125 \nQ 34.859375 53.03125 40.828125 45.609375 \nL 40.828125 51.859375 \nL 48.921875 51.859375 \nL 48.921875 7.03125 \nQ 48.921875 -5.078125 46.453125 -10.125 \nQ 44 -15.1875 38.640625 -18.109375 \nQ 33.296875 -21.046875 25.484375 -21.046875 \nQ 16.21875 -21.046875 10.5 -16.875 \nQ 4.78125 -12.703125 4.984375 -4.296875 \nz\nM 12.25 26.859375 \nQ 12.25 16.65625 16.296875 11.96875 \nQ 20.359375 7.28125 26.46875 7.28125 \nQ 32.515625 7.28125 36.609375 11.9375 \nQ 40.71875 16.609375 40.71875 26.5625 \nQ 40.71875 36.078125 36.5 40.90625 \nQ 32.28125 45.75 26.3125 45.75 \nQ 20.453125 45.75 16.34375 40.984375 \nQ 12.25 36.234375 12.25 26.859375 \nz\n\" id=\"ArialMT-103\"/>\n      <path d=\"M 42.09375 16.703125 \nL 51.171875 15.578125 \nQ 49.03125 7.625 43.21875 3.21875 \nQ 37.40625 -1.171875 28.375 -1.171875 \nQ 17 -1.171875 10.328125 5.828125 \nQ 3.65625 12.84375 3.65625 25.484375 \nQ 3.65625 38.578125 10.390625 45.796875 \nQ 17.140625 53.03125 27.875 53.03125 \nQ 38.28125 53.03125 44.875 45.953125 \nQ 51.46875 38.875 51.46875 26.03125 \nQ 51.46875 25.25 51.421875 23.6875 \nL 12.75 23.6875 \nQ 13.234375 15.140625 17.578125 10.59375 \nQ 21.921875 6.0625 28.421875 6.0625 \nQ 33.25 6.0625 36.671875 8.59375 \nQ 40.09375 11.140625 42.09375 16.703125 \nz\nM 13.234375 30.90625 \nL 42.1875 30.90625 \nQ 41.609375 37.453125 38.875 40.71875 \nQ 34.671875 45.796875 27.984375 45.796875 \nQ 21.921875 45.796875 17.796875 41.75 \nQ 13.671875 37.703125 13.234375 30.90625 \nz\n\" id=\"ArialMT-101\"/>\n     </defs>\n     <g style=\"fill:#262626;\" transform=\"translate(208.20125 256.648594)scale(0.12 -0.12)\">\n      <use xlink:href=\"#ArialMT-116\"/>\n      <use x=\"27.783203\" xlink:href=\"#ArialMT-97\"/>\n      <use x=\"83.398438\" xlink:href=\"#ArialMT-114\"/>\n      <use x=\"116.699219\" xlink:href=\"#ArialMT-103\"/>\n      <use x=\"172.314453\" xlink:href=\"#ArialMT-101\"/>\n      <use x=\"227.929688\" xlink:href=\"#ArialMT-116\"/>\n     </g>\n    </g>\n   </g>\n   <g id=\"matplotlib.axis_2\">\n    <g id=\"ytick_1\">\n     <g id=\"line2d_1\">\n      <path clip-path=\"url(#p81e3dc198c)\" d=\"M 56.1425 224.64 \nL 390.9425 224.64 \n\" style=\"fill:none;stroke:#cccccc;stroke-linecap:round;\"/>\n     </g>\n     <g id=\"text_4\">\n      <!-- 0 -->\n      <g style=\"fill:#262626;\" transform=\"translate(40.525469 228.576797)scale(0.11 -0.11)\">\n       <use xlink:href=\"#ArialMT-48\"/>\n      </g>\n     </g>\n    </g>\n    <g id=\"ytick_2\">\n     <g id=\"line2d_2\">\n      <path clip-path=\"url(#p81e3dc198c)\" d=\"M 56.1425 176.946376 \nL 390.9425 176.946376 \n\" style=\"fill:none;stroke:#cccccc;stroke-linecap:round;\"/>\n     </g>\n     <g id=\"text_5\">\n      <!-- 1000 -->\n      <g style=\"fill:#262626;\" transform=\"translate(22.174375 180.883173)scale(0.11 -0.11)\">\n       <use xlink:href=\"#ArialMT-49\"/>\n       <use x=\"55.615234\" xlink:href=\"#ArialMT-48\"/>\n       <use x=\"111.230469\" xlink:href=\"#ArialMT-48\"/>\n       <use x=\"166.845703\" xlink:href=\"#ArialMT-48\"/>\n      </g>\n     </g>\n    </g>\n    <g id=\"ytick_3\">\n     <g id=\"line2d_3\">\n      <path clip-path=\"url(#p81e3dc198c)\" d=\"M 56.1425 129.252753 \nL 390.9425 129.252753 \n\" style=\"fill:none;stroke:#cccccc;stroke-linecap:round;\"/>\n     </g>\n     <g id=\"text_6\">\n      <!-- 2000 -->\n      <defs>\n       <path d=\"M 50.34375 8.453125 \nL 50.34375 0 \nL 3.03125 0 \nQ 2.9375 3.171875 4.046875 6.109375 \nQ 5.859375 10.9375 9.828125 15.625 \nQ 13.8125 20.3125 21.34375 26.46875 \nQ 33.015625 36.03125 37.109375 41.625 \nQ 41.21875 47.21875 41.21875 52.203125 \nQ 41.21875 57.421875 37.46875 61 \nQ 33.734375 64.59375 27.734375 64.59375 \nQ 21.390625 64.59375 17.578125 60.78125 \nQ 13.765625 56.984375 13.71875 50.25 \nL 4.6875 51.171875 \nQ 5.609375 61.28125 11.65625 66.578125 \nQ 17.71875 71.875 27.9375 71.875 \nQ 38.234375 71.875 44.234375 66.15625 \nQ 50.25 60.453125 50.25 52 \nQ 50.25 47.703125 48.484375 43.546875 \nQ 46.734375 39.40625 42.65625 34.8125 \nQ 38.578125 30.21875 29.109375 22.21875 \nQ 21.1875 15.578125 18.9375 13.203125 \nQ 16.703125 10.84375 15.234375 8.453125 \nz\n\" id=\"ArialMT-50\"/>\n      </defs>\n      <g style=\"fill:#262626;\" transform=\"translate(22.174375 133.189549)scale(0.11 -0.11)\">\n       <use xlink:href=\"#ArialMT-50\"/>\n       <use x=\"55.615234\" xlink:href=\"#ArialMT-48\"/>\n       <use x=\"111.230469\" xlink:href=\"#ArialMT-48\"/>\n       <use x=\"166.845703\" xlink:href=\"#ArialMT-48\"/>\n      </g>\n     </g>\n    </g>\n    <g id=\"ytick_4\">\n     <g id=\"line2d_4\">\n      <path clip-path=\"url(#p81e3dc198c)\" d=\"M 56.1425 81.559129 \nL 390.9425 81.559129 \n\" style=\"fill:none;stroke:#cccccc;stroke-linecap:round;\"/>\n     </g>\n     <g id=\"text_7\">\n      <!-- 3000 -->\n      <defs>\n       <path d=\"M 4.203125 18.890625 \nL 12.984375 20.0625 \nQ 14.5 12.59375 18.140625 9.296875 \nQ 21.78125 6 27 6 \nQ 33.203125 6 37.46875 10.296875 \nQ 41.75 14.59375 41.75 20.953125 \nQ 41.75 27 37.796875 30.921875 \nQ 33.84375 34.859375 27.734375 34.859375 \nQ 25.25 34.859375 21.53125 33.890625 \nL 22.515625 41.609375 \nQ 23.390625 41.5 23.921875 41.5 \nQ 29.546875 41.5 34.03125 44.421875 \nQ 38.53125 47.359375 38.53125 53.46875 \nQ 38.53125 58.296875 35.25 61.46875 \nQ 31.984375 64.65625 26.8125 64.65625 \nQ 21.6875 64.65625 18.265625 61.421875 \nQ 14.84375 58.203125 13.875 51.765625 \nL 5.078125 53.328125 \nQ 6.6875 62.15625 12.390625 67.015625 \nQ 18.109375 71.875 26.609375 71.875 \nQ 32.46875 71.875 37.390625 69.359375 \nQ 42.328125 66.84375 44.9375 62.5 \nQ 47.5625 58.15625 47.5625 53.265625 \nQ 47.5625 48.640625 45.0625 44.828125 \nQ 42.578125 41.015625 37.703125 38.765625 \nQ 44.046875 37.3125 47.5625 32.6875 \nQ 51.078125 28.078125 51.078125 21.140625 \nQ 51.078125 11.765625 44.234375 5.25 \nQ 37.40625 -1.265625 26.953125 -1.265625 \nQ 17.53125 -1.265625 11.296875 4.34375 \nQ 5.078125 9.96875 4.203125 18.890625 \nz\n\" id=\"ArialMT-51\"/>\n      </defs>\n      <g style=\"fill:#262626;\" transform=\"translate(22.174375 85.495926)scale(0.11 -0.11)\">\n       <use xlink:href=\"#ArialMT-51\"/>\n       <use x=\"55.615234\" xlink:href=\"#ArialMT-48\"/>\n       <use x=\"111.230469\" xlink:href=\"#ArialMT-48\"/>\n       <use x=\"166.845703\" xlink:href=\"#ArialMT-48\"/>\n      </g>\n     </g>\n    </g>\n    <g id=\"ytick_5\">\n     <g id=\"line2d_5\">\n      <path clip-path=\"url(#p81e3dc198c)\" d=\"M 56.1425 33.865505 \nL 390.9425 33.865505 \n\" style=\"fill:none;stroke:#cccccc;stroke-linecap:round;\"/>\n     </g>\n     <g id=\"text_8\">\n      <!-- 4000 -->\n      <defs>\n       <path d=\"M 32.328125 0 \nL 32.328125 17.140625 \nL 1.265625 17.140625 \nL 1.265625 25.203125 \nL 33.9375 71.578125 \nL 41.109375 71.578125 \nL 41.109375 25.203125 \nL 50.78125 25.203125 \nL 50.78125 17.140625 \nL 41.109375 17.140625 \nL 41.109375 0 \nz\nM 32.328125 25.203125 \nL 32.328125 57.46875 \nL 9.90625 25.203125 \nz\n\" id=\"ArialMT-52\"/>\n      </defs>\n      <g style=\"fill:#262626;\" transform=\"translate(22.174375 37.802302)scale(0.11 -0.11)\">\n       <use xlink:href=\"#ArialMT-52\"/>\n       <use x=\"55.615234\" xlink:href=\"#ArialMT-48\"/>\n       <use x=\"111.230469\" xlink:href=\"#ArialMT-48\"/>\n       <use x=\"166.845703\" xlink:href=\"#ArialMT-48\"/>\n      </g>\n     </g>\n    </g>\n    <g id=\"text_9\">\n     <!-- count -->\n     <defs>\n      <path d=\"M 40.4375 19 \nL 49.078125 17.875 \nQ 47.65625 8.9375 41.8125 3.875 \nQ 35.984375 -1.171875 27.484375 -1.171875 \nQ 16.84375 -1.171875 10.375 5.78125 \nQ 3.90625 12.75 3.90625 25.734375 \nQ 3.90625 34.125 6.6875 40.421875 \nQ 9.46875 46.734375 15.15625 49.875 \nQ 20.84375 53.03125 27.546875 53.03125 \nQ 35.984375 53.03125 41.359375 48.75 \nQ 46.734375 44.484375 48.25 36.625 \nL 39.703125 35.296875 \nQ 38.484375 40.53125 35.375 43.15625 \nQ 32.28125 45.796875 27.875 45.796875 \nQ 21.234375 45.796875 17.078125 41.03125 \nQ 12.9375 36.28125 12.9375 25.984375 \nQ 12.9375 15.53125 16.9375 10.796875 \nQ 20.953125 6.0625 27.390625 6.0625 \nQ 32.5625 6.0625 36.03125 9.234375 \nQ 39.5 12.40625 40.4375 19 \nz\n\" id=\"ArialMT-99\"/>\n      <path d=\"M 3.328125 25.921875 \nQ 3.328125 40.328125 11.328125 47.265625 \nQ 18.015625 53.03125 27.640625 53.03125 \nQ 38.328125 53.03125 45.109375 46.015625 \nQ 51.90625 39.015625 51.90625 26.65625 \nQ 51.90625 16.65625 48.90625 10.90625 \nQ 45.90625 5.171875 40.15625 2 \nQ 34.421875 -1.171875 27.640625 -1.171875 \nQ 16.75 -1.171875 10.03125 5.8125 \nQ 3.328125 12.796875 3.328125 25.921875 \nz\nM 12.359375 25.921875 \nQ 12.359375 15.96875 16.703125 11.015625 \nQ 21.046875 6.0625 27.640625 6.0625 \nQ 34.1875 6.0625 38.53125 11.03125 \nQ 42.875 16.015625 42.875 26.21875 \nQ 42.875 35.84375 38.5 40.796875 \nQ 34.125 45.75 27.640625 45.75 \nQ 21.046875 45.75 16.703125 40.8125 \nQ 12.359375 35.890625 12.359375 25.921875 \nz\n\" id=\"ArialMT-111\"/>\n      <path d=\"M 40.578125 0 \nL 40.578125 7.625 \nQ 34.515625 -1.171875 24.125 -1.171875 \nQ 19.53125 -1.171875 15.546875 0.578125 \nQ 11.578125 2.34375 9.640625 5 \nQ 7.71875 7.671875 6.9375 11.53125 \nQ 6.390625 14.109375 6.390625 19.734375 \nL 6.390625 51.859375 \nL 15.1875 51.859375 \nL 15.1875 23.09375 \nQ 15.1875 16.21875 15.71875 13.8125 \nQ 16.546875 10.359375 19.234375 8.375 \nQ 21.921875 6.390625 25.875 6.390625 \nQ 29.828125 6.390625 33.296875 8.421875 \nQ 36.765625 10.453125 38.203125 13.9375 \nQ 39.65625 17.4375 39.65625 24.078125 \nL 39.65625 51.859375 \nL 48.4375 51.859375 \nL 48.4375 0 \nz\n\" id=\"ArialMT-117\"/>\n      <path d=\"M 6.59375 0 \nL 6.59375 51.859375 \nL 14.5 51.859375 \nL 14.5 44.484375 \nQ 20.21875 53.03125 31 53.03125 \nQ 35.6875 53.03125 39.625 51.34375 \nQ 43.5625 49.65625 45.515625 46.921875 \nQ 47.46875 44.1875 48.25 40.4375 \nQ 48.734375 37.984375 48.734375 31.890625 \nL 48.734375 0 \nL 39.9375 0 \nL 39.9375 31.546875 \nQ 39.9375 36.921875 38.90625 39.578125 \nQ 37.890625 42.234375 35.28125 43.8125 \nQ 32.671875 45.40625 29.15625 45.40625 \nQ 23.53125 45.40625 19.453125 41.84375 \nQ 15.375 38.28125 15.375 28.328125 \nL 15.375 0 \nz\n\" id=\"ArialMT-110\"/>\n     </defs>\n     <g style=\"fill:#262626;\" transform=\"translate(15.789375 130.596562)rotate(-90)scale(0.12 -0.12)\">\n      <use xlink:href=\"#ArialMT-99\"/>\n      <use x=\"50\" xlink:href=\"#ArialMT-111\"/>\n      <use x=\"105.615234\" xlink:href=\"#ArialMT-117\"/>\n      <use x=\"161.230469\" xlink:href=\"#ArialMT-110\"/>\n      <use x=\"216.845703\" xlink:href=\"#ArialMT-116\"/>\n     </g>\n    </g>\n   </g>\n   <g id=\"patch_3\">\n    <path clip-path=\"url(#p81e3dc198c)\" d=\"M 72.8825 224.64 \nL 206.8025 224.64 \nL 206.8025 17.554286 \nL 72.8825 17.554286 \nz\n\" style=\"fill:#cb6d67;stroke:#ffffff;stroke-linejoin:miter;\"/>\n   </g>\n   <g id=\"patch_4\">\n    <path clip-path=\"url(#p81e3dc198c)\" d=\"M 240.2825 224.64 \nL 374.2025 224.64 \nL 374.2025 68.634157 \nL 240.2825 68.634157 \nz\n\" style=\"fill:#67c5cb;stroke:#ffffff;stroke-linejoin:miter;\"/>\n   </g>\n   <g id=\"patch_5\">\n    <path d=\"M 56.1425 224.64 \nL 56.1425 7.2 \n\" style=\"fill:none;stroke:#cccccc;stroke-linecap:square;stroke-linejoin:miter;stroke-width:1.25;\"/>\n   </g>\n   <g id=\"patch_6\">\n    <path d=\"M 390.9425 224.64 \nL 390.9425 7.2 \n\" style=\"fill:none;stroke:#cccccc;stroke-linecap:square;stroke-linejoin:miter;stroke-width:1.25;\"/>\n   </g>\n   <g id=\"patch_7\">\n    <path d=\"M 56.1425 224.64 \nL 390.9425 224.64 \n\" style=\"fill:none;stroke:#cccccc;stroke-linecap:square;stroke-linejoin:miter;stroke-width:1.25;\"/>\n   </g>\n   <g id=\"patch_8\">\n    <path d=\"M 56.1425 7.2 \nL 390.9425 7.2 \n\" style=\"fill:none;stroke:#cccccc;stroke-linecap:square;stroke-linejoin:miter;stroke-width:1.25;\"/>\n   </g>\n  </g>\n </g>\n <defs>\n  <clipPath id=\"p81e3dc198c\">\n   <rect height=\"217.44\" width=\"334.8\" x=\"56.1425\" y=\"7.2\"/>\n  </clipPath>\n </defs>\n</svg>\n",
      "image/png": "[encoded data removed]"
     },
     "metadata": {
      "needs_background": "light"
     }
    }
   ],
   "source": [
    "# the count of the overall class distribution.\n",
    "print(twitter_df['target'].value_counts())\n",
    "sns.countplot(x = 'target', data = twitter_df, palette='hls')"
   ]
  },
  {
   "cell_type": "code",
   "execution_count": 14,
   "metadata": {},
   "outputs": [
    {
     "output_type": "execute_result",
     "data": {
      "text/plain": "      keyword  target  text\n0           0       0    19\n1           0       1    42\n2      ablaze       0    23\n3      ablaze       1    13\n4    accident       0    11\n..        ...     ...   ...\n435     wreck       0    30\n436     wreck       1     7\n437  wreckage       1    39\n438   wrecked       0    36\n439   wrecked       1     3\n\n[440 rows x 3 columns]",
      "text/html": "<div>\n<style scoped>\n    .dataframe tbody tr th:only-of-type {\n        vertical-align: middle;\n    }\n\n    .dataframe tbody tr th {\n        vertical-align: top;\n    }\n\n    .dataframe thead th {\n        text-align: right;\n    }\n</style>\n<table border=\"1\" class=\"dataframe\">\n  <thead>\n    <tr style=\"text-align: right;\">\n      <th></th>\n      <th>keyword</th>\n      <th>target</th>\n      <th>text</th>\n    </tr>\n  </thead>\n  <tbody>\n    <tr>\n      <th>0</th>\n      <td>0</td>\n      <td>0</td>\n      <td>19</td>\n    </tr>\n    <tr>\n      <th>1</th>\n      <td>0</td>\n      <td>1</td>\n      <td>42</td>\n    </tr>\n    <tr>\n      <th>2</th>\n      <td>ablaze</td>\n      <td>0</td>\n      <td>23</td>\n    </tr>\n    <tr>\n      <th>3</th>\n      <td>ablaze</td>\n      <td>1</td>\n      <td>13</td>\n    </tr>\n    <tr>\n      <th>4</th>\n      <td>accident</td>\n      <td>0</td>\n      <td>11</td>\n    </tr>\n    <tr>\n      <th>...</th>\n      <td>...</td>\n      <td>...</td>\n      <td>...</td>\n    </tr>\n    <tr>\n      <th>435</th>\n      <td>wreck</td>\n      <td>0</td>\n      <td>30</td>\n    </tr>\n    <tr>\n      <th>436</th>\n      <td>wreck</td>\n      <td>1</td>\n      <td>7</td>\n    </tr>\n    <tr>\n      <th>437</th>\n      <td>wreckage</td>\n      <td>1</td>\n      <td>39</td>\n    </tr>\n    <tr>\n      <th>438</th>\n      <td>wrecked</td>\n      <td>0</td>\n      <td>36</td>\n    </tr>\n    <tr>\n      <th>439</th>\n      <td>wrecked</td>\n      <td>1</td>\n      <td>3</td>\n    </tr>\n  </tbody>\n</table>\n<p>440 rows × 3 columns</p>\n</div>"
     },
     "metadata": {},
     "execution_count": 14
    }
   ],
   "source": [
    "# the class distribution is not uniform but they are not heavily skewed to one side either.\n",
    "twitter_df.groupby(['keyword', 'target'])['text'].count().reset_index()"
   ]
  },
  {
   "cell_type": "code",
   "execution_count": 13,
   "metadata": {},
   "outputs": [],
   "source": [
    "# number of characters in a tweet."
   ]
  }
 ],
 "metadata": {
  "kernelspec": {
   "display_name": "Python 3.7.6 64-bit ('base': conda)",
   "language": "python",
   "name": "python_defaultSpec_1597560300375"
  },
  "language_info": {
   "codemirror_mode": {
    "name": "ipython",
    "version": 3
   },
   "file_extension": ".py",
   "mimetype": "text/x-python",
   "name": "python",
   "nbconvert_exporter": "python",
   "pygments_lexer": "ipython3",
   "version": "3.7.6-final"
  }
 },
 "nbformat": 4,
 "nbformat_minor": 4
}